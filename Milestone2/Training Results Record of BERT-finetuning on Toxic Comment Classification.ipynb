{
 "cells": [
  {
   "cell_type": "markdown",
   "metadata": {},
   "source": [
    "# Training Results Record of BERT-finetuning on Toxic Comment Classification"
   ]
  },
  {
   "cell_type": "markdown",
   "metadata": {},
   "source": [
    "## Toxicity binary classification:\n",
    "- 15294 positive examples out of all 159571 comments in the original Kaggle train.csv"
   ]
  },
  {
   "cell_type": "code",
   "execution_count": 2,
   "metadata": {},
   "outputs": [],
   "source": [
    "## trained with \"bert-base-uncased\" model\n",
    "\n",
    "#test with only one epoch \n",
    "#record time: 7:32pm -- July7,2020\n",
    "\n",
    "#hyperparameters used:\n",
    "# batch_size = 32\n",
    "# lr = 2e-5\n",
    "# max_grad_norm = 1.0\n",
    "# epochs = 1 \n",
    "# warmup_proportion = 0.1\n",
    "# num_training_steps  = len(train_dataloader) * epochs\n",
    "# num_warmup_steps = num_training_steps * warmup_proportion\n",
    "\n",
    "# Epoch: 100%|██████████| 1/1 [55:59<00:00, 3359.70s/it]\n",
    "#  Epoch [1/1], Train Loss: 0.1328, Validation Loss: 0.1086, Validation Accuracy: 0.9625, Validation F1: 0.8844"
   ]
  },
  {
   "cell_type": "markdown",
   "metadata": {},
   "source": [
    "## Subclasses binary classification results"
   ]
  },
  {
   "cell_type": "markdown",
   "metadata": {},
   "source": [
    "### Some Statstics to check if performance matches expectation:\n",
    "\n",
    "Counts of 1(positive) for each column in the full original dataset (train.csv downloaded from Kaggle): \n",
    "\n",
    "toxic: 15294\n",
    "\n",
    "severe_toxic: 1595\n",
    "\n",
    "obscene: 8449\n",
    "\n",
    "threat: 478\n",
    "\n",
    "insult:7877\n",
    "\n",
    "identity_hate:1405"
   ]
  },
  {
   "cell_type": "code",
   "execution_count": null,
   "metadata": {},
   "outputs": [],
   "source": [
    "# For the purposes of fine-tuning, the authors recommend the following hyperparameter ranges (from Appendix A.3 of the paper):\n",
    "\n",
    "# Batch size: 16, 32\n",
    "# Learning rate (Adam): 5e-5, 3e-5, 2e-5\n",
    "# Number of epochs: 2, 3, 4"
   ]
  },
  {
   "cell_type": "markdown",
   "metadata": {},
   "source": [
    "Baseline -- using the smaller-size 'bert-base-uncased' model\n",
    "\n",
    "using the following original hyperparameters from bert_pytorch lab tutorials:\n",
    "\n",
    "Batch size: 32\n",
    "Learning rate (Adam): 2e-5\n",
    "Number of epochs: 3\n",
    "\n"
   ]
  },
  {
   "cell_type": "code",
   "execution_count": null,
   "metadata": {},
   "outputs": [],
   "source": [
    "#original configs\n",
    "# Parameters:\n",
    "lr = 2e-5\n",
    "max_grad_norm = 1.0\n",
    "epochs = 3 \n",
    "warmup_proportion = 0.1\n",
    "num_training_steps  = len(train_dataloader) * epochs\n",
    "num_warmup_steps = num_training_steps * warmup_proportion\n",
    "\n",
    "### In Transformers, optimizer and schedules are instantiated like this:\n",
    "# Note: AdamW is a class from the huggingface library\n",
    "# the 'W' stands for 'Weight Decay\"\n",
    "optimizer = AdamW(bert_model.parameters(), lr=lr, correct_bias=False)\n",
    "# schedules\n",
    "scheduler = get_linear_schedule_with_warmup(optimizer, num_warmup_steps=num_warmup_steps, num_training_steps=num_training_steps)  # PyTorch scheduler\n",
    "\n",
    "# We use nn.CrossEntropyLoss() as our loss function. \n",
    "criterion = nn.CrossEntropyLoss()"
   ]
  },
  {
   "cell_type": "code",
   "execution_count": null,
   "metadata": {},
   "outputs": [],
   "source": [
    "## subclass: identity_hate\n",
    "\n",
    "##only one epoch trained with 'bert-base-uncased'\n",
    "# Epoch: 100%|██████████| 1/1 [02:34<00:00, 154.37s/it]\n",
    "#  Epoch [1/1], Train Loss: 0.3166, Validation Loss: 0.2924, Validation Accuracy: 0.9144, Validation F1: 0.4776\n",
    "\n",
    "## 2nd try trained with bert-large-uncase (identity-hate)\n",
    "\n",
    "# Epoch: 100%|██████████| 3/3 [08:06<00:00, 162.04s/it]\n",
    "#  Epoch [3/3], Train Loss: 0.1914, Validation Loss: 0.1752, Validation Accuracy: 0.9401, Validation F1: 0.7981\n"
   ]
  },
  {
   "cell_type": "markdown",
   "metadata": {},
   "source": [
    "### Observations\n",
    "\n",
    "- insult subclass achieves valid-F1 of 0.9158 on 3rd epoch with bert-base-uncased\n",
    "- but identity_hate (which has only 1405 positive examples performed only 0.47 with one epoch), (around 0.49 with 3 epochs); while did much better(0.7981) with bert-large-uncased with one epoch\n"
   ]
  },
  {
   "cell_type": "code",
   "execution_count": null,
   "metadata": {},
   "outputs": [],
   "source": [
    "## below using the smaller-size bert-base-uncased model due to memery constraint on Colab"
   ]
  },
  {
   "cell_type": "code",
   "execution_count": null,
   "metadata": {},
   "outputs": [],
   "source": [
    "## subclass: insult -- 7877 positive labels\n",
    "# Epoch:  33%|███▎      | 1/3 [01:44<03:29, 104.85s/it]\n",
    "#  Epoch [1/3], Train Loss: 0.5681, Validation Loss: 0.5160, Validation Accuracy: 0.7501, Validation F1: 0.7497\n",
    "# Epoch:  67%|██████▋   | 2/3 [03:30<01:45, 105.03s/it]\n",
    "#  Epoch [2/3], Train Loss: 0.4675, Validation Loss: 0.5020, Validation Accuracy: 0.7738, Validation F1: 0.7722\n",
    "# Epoch: 100%|██████████| 3/3 [05:17<00:00, 105.77s/it]\n",
    "#  Epoch [3/3], Train Loss: 0.3945, Validation Loss: 0.5277, Validation Accuracy: 0.7692, Validation F1: 0.7689\n"
   ]
  },
  {
   "cell_type": "code",
   "execution_count": null,
   "metadata": {},
   "outputs": [],
   "source": [
    "## subclass: obscene -- 8449 positive labels\n",
    "\n",
    "# Epoch:  33%|███▎      | 1/3 [01:45<03:30, 105.47s/it]\n",
    "#  Epoch [1/3], Train Loss: 0.4605, Validation Loss: 0.4318, Validation Accuracy: 0.8231, Validation F1: 0.8230\n",
    "# Epoch:  67%|██████▋   | 2/3 [03:32<01:45, 105.89s/it]\n",
    "#  Epoch [2/3], Train Loss: 0.3456, Validation Loss: 0.4162, Validation Accuracy: 0.8255, Validation F1: 0.8254\n",
    "# Epoch: 100%|██████████| 3/3 [05:19<00:00, 106.47s/it]\n",
    "#  Epoch [3/3], Train Loss: 0.2513, Validation Loss: 0.4741, Validation Accuracy: 0.8161, Validation F1: 0.8159"
   ]
  },
  {
   "cell_type": "code",
   "execution_count": null,
   "metadata": {},
   "outputs": [],
   "source": [
    "##subclass: severe_toxic -- 1595 positive labels\n",
    "\n",
    "# Epoch:  33%|███▎      | 1/3 [01:45<03:30, 105.25s/it]\n",
    "#  Epoch [1/3], Train Loss: 0.2759, Validation Loss: 0.2524, Validation Accuracy: 0.9015, Validation F1: 0.6662\n",
    "# Epoch:  67%|██████▋   | 2/3 [03:31<01:45, 105.62s/it]\n",
    "#  Epoch [2/3], Train Loss: 0.2086, Validation Loss: 0.2330, Validation Accuracy: 0.8961, Validation F1: 0.7082\n",
    "# Epoch: 100%|██████████| 3/3 [05:19<00:00, 106.36s/it]\n",
    "#  Epoch [3/3], Train Loss: 0.1607, Validation Loss: 0.2549, Validation Accuracy: 0.8956, Validation F1: 0.7132"
   ]
  },
  {
   "cell_type": "code",
   "execution_count": null,
   "metadata": {},
   "outputs": [],
   "source": []
  },
  {
   "cell_type": "code",
   "execution_count": null,
   "metadata": {},
   "outputs": [],
   "source": []
  }
 ],
 "metadata": {
  "kernelspec": {
   "display_name": "Python 3",
   "language": "python",
   "name": "python3"
  },
  "language_info": {
   "codemirror_mode": {
    "name": "ipython",
    "version": 3
   },
   "file_extension": ".py",
   "mimetype": "text/x-python",
   "name": "python",
   "nbconvert_exporter": "python",
   "pygments_lexer": "ipython3",
   "version": "3.7.3"
  }
 },
 "nbformat": 4,
 "nbformat_minor": 4
}
