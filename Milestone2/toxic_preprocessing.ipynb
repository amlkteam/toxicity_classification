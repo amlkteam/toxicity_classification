{
 "cells": [
  {
   "cell_type": "code",
   "execution_count": 2,
   "metadata": {},
   "outputs": [],
   "source": [
    "import pandas as pd"
   ]
  },
  {
   "cell_type": "code",
   "execution_count": 3,
   "metadata": {
    "scrolled": true
   },
   "outputs": [
    {
     "data": {
      "text/html": [
       "<div>\n",
       "<style scoped>\n",
       "    .dataframe tbody tr th:only-of-type {\n",
       "        vertical-align: middle;\n",
       "    }\n",
       "\n",
       "    .dataframe tbody tr th {\n",
       "        vertical-align: top;\n",
       "    }\n",
       "\n",
       "    .dataframe thead th {\n",
       "        text-align: right;\n",
       "    }\n",
       "</style>\n",
       "<table border=\"1\" class=\"dataframe\">\n",
       "  <thead>\n",
       "    <tr style=\"text-align: right;\">\n",
       "      <th></th>\n",
       "      <th>id</th>\n",
       "      <th>comment_text</th>\n",
       "      <th>toxic</th>\n",
       "      <th>severe_toxic</th>\n",
       "      <th>obscene</th>\n",
       "      <th>threat</th>\n",
       "      <th>insult</th>\n",
       "      <th>identity_hate</th>\n",
       "    </tr>\n",
       "  </thead>\n",
       "  <tbody>\n",
       "    <tr>\n",
       "      <th>6</th>\n",
       "      <td>0002bcb3da6cb337</td>\n",
       "      <td>COCKSUCKER BEFORE YOU PISS AROUND ON MY WORK</td>\n",
       "      <td>1</td>\n",
       "      <td>1</td>\n",
       "      <td>1</td>\n",
       "      <td>0</td>\n",
       "      <td>1</td>\n",
       "      <td>0</td>\n",
       "    </tr>\n",
       "    <tr>\n",
       "      <th>12</th>\n",
       "      <td>0005c987bdfc9d4b</td>\n",
       "      <td>Hey... what is it..\\n@ | talk .\\nWhat is it......</td>\n",
       "      <td>1</td>\n",
       "      <td>0</td>\n",
       "      <td>0</td>\n",
       "      <td>0</td>\n",
       "      <td>0</td>\n",
       "      <td>0</td>\n",
       "    </tr>\n",
       "    <tr>\n",
       "      <th>16</th>\n",
       "      <td>0007e25b2121310b</td>\n",
       "      <td>Bye! \\n\\nDon't look, come or think of comming ...</td>\n",
       "      <td>1</td>\n",
       "      <td>0</td>\n",
       "      <td>0</td>\n",
       "      <td>0</td>\n",
       "      <td>0</td>\n",
       "      <td>0</td>\n",
       "    </tr>\n",
       "    <tr>\n",
       "      <th>42</th>\n",
       "      <td>001810bf8c45bf5f</td>\n",
       "      <td>You are gay or antisemmitian? \\n\\nArchangel WH...</td>\n",
       "      <td>1</td>\n",
       "      <td>0</td>\n",
       "      <td>1</td>\n",
       "      <td>0</td>\n",
       "      <td>1</td>\n",
       "      <td>1</td>\n",
       "    </tr>\n",
       "    <tr>\n",
       "      <th>43</th>\n",
       "      <td>00190820581d90ce</td>\n",
       "      <td>FUCK YOUR FILTHY MOTHER IN THE ASS, DRY!</td>\n",
       "      <td>1</td>\n",
       "      <td>0</td>\n",
       "      <td>1</td>\n",
       "      <td>0</td>\n",
       "      <td>1</td>\n",
       "      <td>0</td>\n",
       "    </tr>\n",
       "    <tr>\n",
       "      <th>...</th>\n",
       "      <td>...</td>\n",
       "      <td>...</td>\n",
       "      <td>...</td>\n",
       "      <td>...</td>\n",
       "      <td>...</td>\n",
       "      <td>...</td>\n",
       "      <td>...</td>\n",
       "      <td>...</td>\n",
       "    </tr>\n",
       "    <tr>\n",
       "      <th>159494</th>\n",
       "      <td>fef4cf7ba0012866</td>\n",
       "      <td>\"\\n\\n our previous conversation \\n\\nyou fuckin...</td>\n",
       "      <td>1</td>\n",
       "      <td>0</td>\n",
       "      <td>1</td>\n",
       "      <td>0</td>\n",
       "      <td>1</td>\n",
       "      <td>1</td>\n",
       "    </tr>\n",
       "    <tr>\n",
       "      <th>159514</th>\n",
       "      <td>ff39a2895fc3b40e</td>\n",
       "      <td>YOU ARE A MISCHIEVIOUS PUBIC HAIR</td>\n",
       "      <td>1</td>\n",
       "      <td>0</td>\n",
       "      <td>0</td>\n",
       "      <td>0</td>\n",
       "      <td>1</td>\n",
       "      <td>0</td>\n",
       "    </tr>\n",
       "    <tr>\n",
       "      <th>159541</th>\n",
       "      <td>ffa33d3122b599d6</td>\n",
       "      <td>Your absurd edits \\n\\nYour absurd edits on gre...</td>\n",
       "      <td>1</td>\n",
       "      <td>0</td>\n",
       "      <td>1</td>\n",
       "      <td>0</td>\n",
       "      <td>1</td>\n",
       "      <td>0</td>\n",
       "    </tr>\n",
       "    <tr>\n",
       "      <th>159546</th>\n",
       "      <td>ffb47123b2d82762</td>\n",
       "      <td>\"\\n\\nHey listen don't you ever!!!! Delete my e...</td>\n",
       "      <td>1</td>\n",
       "      <td>0</td>\n",
       "      <td>0</td>\n",
       "      <td>0</td>\n",
       "      <td>1</td>\n",
       "      <td>0</td>\n",
       "    </tr>\n",
       "    <tr>\n",
       "      <th>159554</th>\n",
       "      <td>ffbdbb0483ed0841</td>\n",
       "      <td>and i'm going to keep posting the stuff u dele...</td>\n",
       "      <td>1</td>\n",
       "      <td>0</td>\n",
       "      <td>1</td>\n",
       "      <td>0</td>\n",
       "      <td>1</td>\n",
       "      <td>0</td>\n",
       "    </tr>\n",
       "  </tbody>\n",
       "</table>\n",
       "<p>15294 rows × 8 columns</p>\n",
       "</div>"
      ],
      "text/plain": [
       "                      id                                       comment_text  \\\n",
       "6       0002bcb3da6cb337       COCKSUCKER BEFORE YOU PISS AROUND ON MY WORK   \n",
       "12      0005c987bdfc9d4b  Hey... what is it..\\n@ | talk .\\nWhat is it......   \n",
       "16      0007e25b2121310b  Bye! \\n\\nDon't look, come or think of comming ...   \n",
       "42      001810bf8c45bf5f  You are gay or antisemmitian? \\n\\nArchangel WH...   \n",
       "43      00190820581d90ce           FUCK YOUR FILTHY MOTHER IN THE ASS, DRY!   \n",
       "...                  ...                                                ...   \n",
       "159494  fef4cf7ba0012866  \"\\n\\n our previous conversation \\n\\nyou fuckin...   \n",
       "159514  ff39a2895fc3b40e                  YOU ARE A MISCHIEVIOUS PUBIC HAIR   \n",
       "159541  ffa33d3122b599d6  Your absurd edits \\n\\nYour absurd edits on gre...   \n",
       "159546  ffb47123b2d82762  \"\\n\\nHey listen don't you ever!!!! Delete my e...   \n",
       "159554  ffbdbb0483ed0841  and i'm going to keep posting the stuff u dele...   \n",
       "\n",
       "        toxic  severe_toxic  obscene  threat  insult  identity_hate  \n",
       "6           1             1        1       0       1              0  \n",
       "12          1             0        0       0       0              0  \n",
       "16          1             0        0       0       0              0  \n",
       "42          1             0        1       0       1              1  \n",
       "43          1             0        1       0       1              0  \n",
       "...       ...           ...      ...     ...     ...            ...  \n",
       "159494      1             0        1       0       1              1  \n",
       "159514      1             0        0       0       1              0  \n",
       "159541      1             0        1       0       1              0  \n",
       "159546      1             0        0       0       1              0  \n",
       "159554      1             0        1       0       1              0  \n",
       "\n",
       "[15294 rows x 8 columns]"
      ]
     },
     "execution_count": 3,
     "metadata": {},
     "output_type": "execute_result"
    }
   ],
   "source": [
    "toxicity_train=pd.read_csv(\"D:\\\\Downloads\\\\jigsaw-toxic-comment-classification-challenge\\\\train\\\\train.csv\")\n",
    "toxicity_train[toxicity_train['toxic']==1]"
   ]
  },
  {
   "cell_type": "code",
   "execution_count": 4,
   "metadata": {},
   "outputs": [
    {
     "data": {
      "text/plain": [
       "15294"
      ]
     },
     "execution_count": 4,
     "metadata": {},
     "output_type": "execute_result"
    }
   ],
   "source": [
    "len(toxicity_train[toxicity_train['toxic']==1])"
   ]
  },
  {
   "cell_type": "code",
   "execution_count": 5,
   "metadata": {},
   "outputs": [
    {
     "data": {
      "text/plain": [
       "159571"
      ]
     },
     "execution_count": 5,
     "metadata": {},
     "output_type": "execute_result"
    }
   ],
   "source": [
    "len(toxicity_train)"
   ]
  },
  {
   "cell_type": "code",
   "execution_count": 6,
   "metadata": {},
   "outputs": [
    {
     "name": "stdout",
     "output_type": "stream",
     "text": [
      "id\n",
      "0\n",
      "comment_text\n",
      "0\n",
      "toxic\n",
      "15294\n",
      "severe_toxic\n",
      "1595\n",
      "obscene\n",
      "8449\n",
      "threat\n",
      "478\n",
      "insult\n",
      "7877\n",
      "identity_hate\n",
      "1405\n"
     ]
    }
   ],
   "source": [
    "for col in toxicity_train.columns:\n",
    "    print(col)\n",
    "    print(len(toxicity_train[toxicity_train[col]==1]))"
   ]
  },
  {
   "cell_type": "code",
   "execution_count": 7,
   "metadata": {},
   "outputs": [
    {
     "data": {
      "text/plain": [
       "0         Explanation\\nWhy the edits made under my usern...\n",
       "1         D'aww! He matches this background colour I'm s...\n",
       "2         Hey man, I'm really not trying to edit war. It...\n",
       "3         \"\\nMore\\nI can't make any real suggestions on ...\n",
       "4         You, sir, are my hero. Any chance you remember...\n",
       "                                ...                        \n",
       "159566    \":::::And for the second time of asking, when ...\n",
       "159567    You should be ashamed of yourself \\n\\nThat is ...\n",
       "159568    Spitzer \\n\\nUmm, theres no actual article for ...\n",
       "159569    And it looks like it was actually you who put ...\n",
       "159570    \"\\nAnd ... I really don't think you understand...\n",
       "Name: comment_text, Length: 159571, dtype: object"
      ]
     },
     "execution_count": 7,
     "metadata": {},
     "output_type": "execute_result"
    }
   ],
   "source": [
    "toxicity_train['comment_text']"
   ]
  },
  {
   "cell_type": "code",
   "execution_count": 8,
   "metadata": {},
   "outputs": [],
   "source": [
    "toxic_only = toxicity_train[['comment_text','toxic']]"
   ]
  },
  {
   "cell_type": "code",
   "execution_count": 9,
   "metadata": {},
   "outputs": [],
   "source": [
    "toxic_only.to_csv('D:\\\\Downloads\\\\jigsaw-toxic-comment-classification-challenge\\\\train\\\\toxic_only.csv')"
   ]
  },
  {
   "cell_type": "code",
   "execution_count": 10,
   "metadata": {},
   "outputs": [],
   "source": [
    "from sklearn.model_selection import train_test_split"
   ]
  },
  {
   "cell_type": "code",
   "execution_count": 11,
   "metadata": {},
   "outputs": [],
   "source": [
    "toxic_train, toxic_dev =train_test_split(toxic_only,test_size=0.3)"
   ]
  },
  {
   "cell_type": "code",
   "execution_count": 12,
   "metadata": {},
   "outputs": [
    {
     "data": {
      "text/html": [
       "<div>\n",
       "<style scoped>\n",
       "    .dataframe tbody tr th:only-of-type {\n",
       "        vertical-align: middle;\n",
       "    }\n",
       "\n",
       "    .dataframe tbody tr th {\n",
       "        vertical-align: top;\n",
       "    }\n",
       "\n",
       "    .dataframe thead th {\n",
       "        text-align: right;\n",
       "    }\n",
       "</style>\n",
       "<table border=\"1\" class=\"dataframe\">\n",
       "  <thead>\n",
       "    <tr style=\"text-align: right;\">\n",
       "      <th></th>\n",
       "      <th>comment_text</th>\n",
       "      <th>toxic</th>\n",
       "    </tr>\n",
       "  </thead>\n",
       "  <tbody>\n",
       "    <tr>\n",
       "      <th>122230</th>\n",
       "      <td>California State Polytechnic University, Pomona</td>\n",
       "      <td>0</td>\n",
       "    </tr>\n",
       "    <tr>\n",
       "      <th>52388</th>\n",
       "      <td>I cant find mention of Raptor as an engine on ...</td>\n",
       "      <td>0</td>\n",
       "    </tr>\n",
       "    <tr>\n",
       "      <th>123923</th>\n",
       "      <td>\"\\n\\nSource\\n\\nDon't you understand that this ...</td>\n",
       "      <td>0</td>\n",
       "    </tr>\n",
       "    <tr>\n",
       "      <th>40685</th>\n",
       "      <td>Thanks\\n\\nThanks for showing me the TOClimit|l...</td>\n",
       "      <td>0</td>\n",
       "    </tr>\n",
       "    <tr>\n",
       "      <th>57429</th>\n",
       "      <td>Hello , I was the original author of the artic...</td>\n",
       "      <td>0</td>\n",
       "    </tr>\n",
       "  </tbody>\n",
       "</table>\n",
       "</div>"
      ],
      "text/plain": [
       "                                             comment_text  toxic\n",
       "122230    California State Polytechnic University, Pomona      0\n",
       "52388   I cant find mention of Raptor as an engine on ...      0\n",
       "123923  \"\\n\\nSource\\n\\nDon't you understand that this ...      0\n",
       "40685   Thanks\\n\\nThanks for showing me the TOClimit|l...      0\n",
       "57429   Hello , I was the original author of the artic...      0"
      ]
     },
     "execution_count": 12,
     "metadata": {},
     "output_type": "execute_result"
    }
   ],
   "source": [
    "toxic_train.head()"
   ]
  },
  {
   "cell_type": "code",
   "execution_count": 13,
   "metadata": {
    "scrolled": true
   },
   "outputs": [
    {
     "data": {
      "text/html": [
       "<div>\n",
       "<style scoped>\n",
       "    .dataframe tbody tr th:only-of-type {\n",
       "        vertical-align: middle;\n",
       "    }\n",
       "\n",
       "    .dataframe tbody tr th {\n",
       "        vertical-align: top;\n",
       "    }\n",
       "\n",
       "    .dataframe thead th {\n",
       "        text-align: right;\n",
       "    }\n",
       "</style>\n",
       "<table border=\"1\" class=\"dataframe\">\n",
       "  <thead>\n",
       "    <tr style=\"text-align: right;\">\n",
       "      <th></th>\n",
       "      <th>comment_text</th>\n",
       "      <th>toxic</th>\n",
       "    </tr>\n",
       "  </thead>\n",
       "  <tbody>\n",
       "    <tr>\n",
       "      <th>45437</th>\n",
       "      <td>\"\\n You post \"\"I am happy to cooperate as per ...</td>\n",
       "      <td>0</td>\n",
       "    </tr>\n",
       "    <tr>\n",
       "      <th>136097</th>\n",
       "      <td>\"\\n\\n Museum \\n\\nAs I understand it, Barnum's ...</td>\n",
       "      <td>0</td>\n",
       "    </tr>\n",
       "    <tr>\n",
       "      <th>71787</th>\n",
       "      <td>Fourteen Infallibles \\n\\nWell over ten days ha...</td>\n",
       "      <td>0</td>\n",
       "    </tr>\n",
       "    <tr>\n",
       "      <th>115517</th>\n",
       "      <td>\"\\n\\n Country-music collaboration \\n\\nYou supp...</td>\n",
       "      <td>0</td>\n",
       "    </tr>\n",
       "    <tr>\n",
       "      <th>123067</th>\n",
       "      <td>Rochester WIKI\\n\\nHi, , Please stop putting th...</td>\n",
       "      <td>0</td>\n",
       "    </tr>\n",
       "  </tbody>\n",
       "</table>\n",
       "</div>"
      ],
      "text/plain": [
       "                                             comment_text  toxic\n",
       "45437   \"\\n You post \"\"I am happy to cooperate as per ...      0\n",
       "136097  \"\\n\\n Museum \\n\\nAs I understand it, Barnum's ...      0\n",
       "71787   Fourteen Infallibles \\n\\nWell over ten days ha...      0\n",
       "115517  \"\\n\\n Country-music collaboration \\n\\nYou supp...      0\n",
       "123067  Rochester WIKI\\n\\nHi, , Please stop putting th...      0"
      ]
     },
     "execution_count": 13,
     "metadata": {},
     "output_type": "execute_result"
    }
   ],
   "source": [
    "toxic_dev.head()"
   ]
  },
  {
   "cell_type": "code",
   "execution_count": 14,
   "metadata": {},
   "outputs": [],
   "source": [
    "toxic_train.to_csv('D:\\\\Downloads\\\\jigsaw-toxic-comment-classification-challenge\\\\train\\\\toxic_train.csv', header = [\"content\",\"label\"], index=False)\n",
    "toxic_dev.to_csv('D:\\\\Downloads\\\\jigsaw-toxic-comment-classification-challenge\\\\train\\\\toxic_dev.csv', header = [\"content\",\"label\"],index=False)"
   ]
  },
  {
   "cell_type": "code",
   "execution_count": 15,
   "metadata": {},
   "outputs": [
    {
     "name": "stdout",
     "output_type": "stream",
     "text": [
      "id\n",
      "comment_text\n",
      "toxic\n",
      "                                        comment_text  toxic\n",
      "0  Explanation\\nWhy the edits made under my usern...      0\n",
      "1  D'aww! He matches this background colour I'm s...      0\n",
      "2  Hey man, I'm really not trying to edit war. It...      0\n",
      "3  \"\\nMore\\nI can't make any real suggestions on ...      0\n",
      "4  You, sir, are my hero. Any chance you remember...      0\n",
      "severe_toxic\n",
      "                                        comment_text  severe_toxic\n",
      "0  Explanation\\nWhy the edits made under my usern...             0\n",
      "1  D'aww! He matches this background colour I'm s...             0\n",
      "2  Hey man, I'm really not trying to edit war. It...             0\n",
      "3  \"\\nMore\\nI can't make any real suggestions on ...             0\n",
      "4  You, sir, are my hero. Any chance you remember...             0\n",
      "obscene\n",
      "                                        comment_text  obscene\n",
      "0  Explanation\\nWhy the edits made under my usern...        0\n",
      "1  D'aww! He matches this background colour I'm s...        0\n",
      "2  Hey man, I'm really not trying to edit war. It...        0\n",
      "3  \"\\nMore\\nI can't make any real suggestions on ...        0\n",
      "4  You, sir, are my hero. Any chance you remember...        0\n",
      "threat\n",
      "                                        comment_text  threat\n",
      "0  Explanation\\nWhy the edits made under my usern...       0\n",
      "1  D'aww! He matches this background colour I'm s...       0\n",
      "2  Hey man, I'm really not trying to edit war. It...       0\n",
      "3  \"\\nMore\\nI can't make any real suggestions on ...       0\n",
      "4  You, sir, are my hero. Any chance you remember...       0\n",
      "insult\n",
      "                                        comment_text  insult\n",
      "0  Explanation\\nWhy the edits made under my usern...       0\n",
      "1  D'aww! He matches this background colour I'm s...       0\n",
      "2  Hey man, I'm really not trying to edit war. It...       0\n",
      "3  \"\\nMore\\nI can't make any real suggestions on ...       0\n",
      "4  You, sir, are my hero. Any chance you remember...       0\n",
      "identity_hate\n",
      "                                        comment_text  identity_hate\n",
      "0  Explanation\\nWhy the edits made under my usern...              0\n",
      "1  D'aww! He matches this background colour I'm s...              0\n",
      "2  Hey man, I'm really not trying to edit war. It...              0\n",
      "3  \"\\nMore\\nI can't make any real suggestions on ...              0\n",
      "4  You, sir, are my hero. Any chance you remember...              0\n"
     ]
    }
   ],
   "source": [
    "## train_test_split for other columns  -- 159571 rows for each column\n",
    "## can try training on another classifier of only 15294 toxic comments to address class imbalance problem??\n",
    "\n",
    "for col in toxicity_train.columns:\n",
    "    print(col)\n",
    "    if col != \"id\" and col != \"comment_text\":\n",
    "        single_col = toxicity_train[['comment_text',col]]\n",
    "        print(single_col.head())\n",
    "        toxic_train, toxic_dev =train_test_split(single_col,test_size=0.3)\n",
    "        toxic_train.to_csv('D:\\\\Downloads\\\\jigsaw-toxic-comment-classification-challenge\\\\train\\\\'+col+'_train.csv', header = [\"content\",\"label\"], index=False)\n",
    "        toxic_dev.to_csv('D:\\\\Downloads\\\\jigsaw-toxic-comment-classification-challenge\\\\train\\\\'+col+'_dev.csv', header = [\"content\",\"label\"],index=False)\n"
   ]
  },
  {
   "cell_type": "code",
   "execution_count": 16,
   "metadata": {},
   "outputs": [
    {
     "name": "stdout",
     "output_type": "stream",
     "text": [
      "id\n",
      "comment_text\n",
      "toxic\n",
      "                                         comment_text  toxic\n",
      "6        COCKSUCKER BEFORE YOU PISS AROUND ON MY WORK      1\n",
      "12  Hey... what is it..\\n@ | talk .\\nWhat is it......      1\n",
      "16  Bye! \\n\\nDon't look, come or think of comming ...      1\n",
      "42  You are gay or antisemmitian? \\n\\nArchangel WH...      1\n",
      "43           FUCK YOUR FILTHY MOTHER IN THE ASS, DRY!      1\n",
      "severe_toxic\n",
      "                                         comment_text  severe_toxic\n",
      "6        COCKSUCKER BEFORE YOU PISS AROUND ON MY WORK             1\n",
      "12  Hey... what is it..\\n@ | talk .\\nWhat is it......             0\n",
      "16  Bye! \\n\\nDon't look, come or think of comming ...             0\n",
      "42  You are gay or antisemmitian? \\n\\nArchangel WH...             0\n",
      "43           FUCK YOUR FILTHY MOTHER IN THE ASS, DRY!             0\n",
      "obscene\n",
      "                                         comment_text  obscene\n",
      "6        COCKSUCKER BEFORE YOU PISS AROUND ON MY WORK        1\n",
      "12  Hey... what is it..\\n@ | talk .\\nWhat is it......        0\n",
      "16  Bye! \\n\\nDon't look, come or think of comming ...        0\n",
      "42  You are gay or antisemmitian? \\n\\nArchangel WH...        1\n",
      "43           FUCK YOUR FILTHY MOTHER IN THE ASS, DRY!        1\n",
      "threat\n",
      "                                         comment_text  threat\n",
      "6        COCKSUCKER BEFORE YOU PISS AROUND ON MY WORK       0\n",
      "12  Hey... what is it..\\n@ | talk .\\nWhat is it......       0\n",
      "16  Bye! \\n\\nDon't look, come or think of comming ...       0\n",
      "42  You are gay or antisemmitian? \\n\\nArchangel WH...       0\n",
      "43           FUCK YOUR FILTHY MOTHER IN THE ASS, DRY!       0\n",
      "insult\n",
      "                                         comment_text  insult\n",
      "6        COCKSUCKER BEFORE YOU PISS AROUND ON MY WORK       1\n",
      "12  Hey... what is it..\\n@ | talk .\\nWhat is it......       0\n",
      "16  Bye! \\n\\nDon't look, come or think of comming ...       0\n",
      "42  You are gay or antisemmitian? \\n\\nArchangel WH...       1\n",
      "43           FUCK YOUR FILTHY MOTHER IN THE ASS, DRY!       1\n",
      "identity_hate\n",
      "                                         comment_text  identity_hate\n",
      "6        COCKSUCKER BEFORE YOU PISS AROUND ON MY WORK              0\n",
      "12  Hey... what is it..\\n@ | talk .\\nWhat is it......              0\n",
      "16  Bye! \\n\\nDon't look, come or think of comming ...              0\n",
      "42  You are gay or antisemmitian? \\n\\nArchangel WH...              1\n",
      "43           FUCK YOUR FILTHY MOTHER IN THE ASS, DRY!              0\n"
     ]
    }
   ],
   "source": [
    "toxic_labelled = toxicity_train[toxicity_train['toxic']==1]\n",
    "toxic_labelled.head()\n",
    "\n",
    "for col in toxic_labelled.columns:\n",
    "    print(col)\n",
    "    if col != \"id\" and col != \"comment_text\":\n",
    "        single_col = toxic_labelled[['comment_text',col]]\n",
    "        print(single_col.head())\n",
    "        toxic_train, toxic_dev =train_test_split(single_col,test_size=0.3)\n",
    "        toxic_train.to_csv('D:\\\\Downloads\\\\jigsaw-toxic-comment-classification-challenge\\\\train\\\\toxic_labelled\\\\'+col+'_train.csv', header = [\"content\",\"label\"], index=False)\n",
    "        toxic_dev.to_csv('D:\\\\Downloads\\\\jigsaw-toxic-comment-classification-challenge\\\\train\\\\toxic_labelled\\\\'+col+'_dev.csv', header = [\"content\",\"label\"],index=False)\n",
    "\n",
    "        \n"
   ]
  },
  {
   "cell_type": "code",
   "execution_count": 17,
   "metadata": {},
   "outputs": [],
   "source": [
    "##caveat, some rows labelled \"toxic\" has no subclasses\n",
    "## e.g.\n",
    "## Why did that idiot revert the reversion I made? Can that moron not have the decent common manners to post on the talk page? What a rude fuck. Arrogant twat who doesn't know what he's talking about. None of you fuckers have any manners.\t1\t0\t0\t0\t0\t0\n"
   ]
  },
  {
   "cell_type": "code",
   "execution_count": 18,
   "metadata": {},
   "outputs": [
    {
     "data": {
      "text/html": [
       "<div>\n",
       "<style scoped>\n",
       "    .dataframe tbody tr th:only-of-type {\n",
       "        vertical-align: middle;\n",
       "    }\n",
       "\n",
       "    .dataframe tbody tr th {\n",
       "        vertical-align: top;\n",
       "    }\n",
       "\n",
       "    .dataframe thead th {\n",
       "        text-align: right;\n",
       "    }\n",
       "</style>\n",
       "<table border=\"1\" class=\"dataframe\">\n",
       "  <thead>\n",
       "    <tr style=\"text-align: right;\">\n",
       "      <th></th>\n",
       "      <th>id</th>\n",
       "      <th>comment_text</th>\n",
       "      <th>toxic</th>\n",
       "      <th>severe_toxic</th>\n",
       "      <th>obscene</th>\n",
       "      <th>threat</th>\n",
       "      <th>insult</th>\n",
       "      <th>identity_hate</th>\n",
       "    </tr>\n",
       "  </thead>\n",
       "  <tbody>\n",
       "    <tr>\n",
       "      <th>159398</th>\n",
       "      <td>fd0129fde97321cb</td>\n",
       "      <td>Why did that idiot revert the reversion I made...</td>\n",
       "      <td>1</td>\n",
       "      <td>0</td>\n",
       "      <td>0</td>\n",
       "      <td>0</td>\n",
       "      <td>0</td>\n",
       "      <td>0</td>\n",
       "    </tr>\n",
       "  </tbody>\n",
       "</table>\n",
       "</div>"
      ],
      "text/plain": [
       "                      id                                       comment_text  \\\n",
       "159398  fd0129fde97321cb  Why did that idiot revert the reversion I made...   \n",
       "\n",
       "        toxic  severe_toxic  obscene  threat  insult  identity_hate  \n",
       "159398      1             0        0       0       0              0  "
      ]
     },
     "execution_count": 18,
     "metadata": {},
     "output_type": "execute_result"
    }
   ],
   "source": [
    "\n",
    "\n",
    "toxicity_train[toxicity_train['id']=='fd0129fde97321cb']"
   ]
  },
  {
   "cell_type": "code",
   "execution_count": null,
   "metadata": {},
   "outputs": [],
   "source": []
  }
 ],
 "metadata": {
  "kernelspec": {
   "display_name": "Python 3",
   "language": "python",
   "name": "python3"
  },
  "language_info": {
   "codemirror_mode": {
    "name": "ipython",
    "version": 3
   },
   "file_extension": ".py",
   "mimetype": "text/x-python",
   "name": "python",
   "nbconvert_exporter": "python",
   "pygments_lexer": "ipython3",
   "version": "3.7.3"
  }
 },
 "nbformat": 4,
 "nbformat_minor": 4
}
